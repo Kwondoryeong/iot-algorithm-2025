{
 "cells": [
  {
   "cell_type": "markdown",
   "metadata": {},
   "source": [
    "### 정렬 Sort\n",
    "<!-- 합병(Merge) 정렬-->\n",
    "<img src = \"https://upload.wikimedia.org/wikipedia/commons/thumb/8/8e/Merge_sort_animation.gif/220px-Merge_sort_animation.gif\" width=400>\n",
    "\n",
    "- 여러 데이터를 작은 값부터 큰 값 순으로 또는 큰 값부터 작은 값 순으로 순서에 맞게 정리하는 것\n",
    "    - 오름차순(Ascending Sort)\n",
    "    - 내림차순(Descending Sort)\n",
    "\n",
    "<!-- 표 만들 때 :--(왼쪽정렬) --:(오른쪽정렬) :--:(중앙정렬) -->\n",
    "|종류|평균|최선|최악\n",
    "|:--|:--:|--:|:--:|\n",
    "|선택정렬|$O(n^2)$|$O(n^2)$|$O(n^2)$|\n",
    "|삽입정렬|$O(n^2)$|$O(n^2)$|$O(n^2)$|\n",
    "|버블|$O(n^2)$|$O(n)$|$O(n^2)$|\n",
    "|합병|$O(n log n)$|$O(n log n)$|$O(n log n)$|\n",
    "|퀵|$O(n log n)$|$O(n log n)$|$O(n^2)$|\n",
    "|힙|$O(n log n)$|$O(n log n)$|$O(n log n)$|\n",
    "|쉘|$O(n^{1.25})$|$O(n^{1.25})$|$O(n^{1.25})$|\n",
    "|기수|$O(dn)$|$O(dn)$|$O(dn)$|"
   ]
  },
  {
   "cell_type": "markdown",
   "metadata": {},
   "source": [
    "#### 선택정렬\n",
    "- 여러 데이터중 가장 작은 값을 뽑는 과정을 반복하여 정렬하는 방식"
   ]
  },
  {
   "cell_type": "code",
   "execution_count": 6,
   "metadata": {},
   "outputs": [],
   "source": [
    "def findMinIdx(ary):\n",
    "    minIdx = 0 # 맨 처음 값을 최소라고 가정\n",
    "    for i in range(1, len(ary)):\n",
    "        if ary[minIdx] > ary[i] :\n",
    "            minIdx = i\n",
    "\n",
    "    return minIdx\n"
   ]
  },
  {
   "cell_type": "code",
   "execution_count": 7,
   "metadata": {},
   "outputs": [
    {
     "name": "stdout",
     "output_type": "stream",
     "text": [
      "최소값 인덱스 : 2\n",
      "최소값 : 22\n"
     ]
    }
   ],
   "source": [
    "testAry = [55, 88, 22, 33, 77]\n",
    "minPos = findMinIdx(testAry)\n",
    "\n",
    "print(f'최소값 인덱스 : {minPos}')\n",
    "print(f'최소값 : {testAry[minPos]}')"
   ]
  },
  {
   "cell_type": "code",
   "execution_count": 10,
   "metadata": {},
   "outputs": [
    {
     "name": "stdout",
     "output_type": "stream",
     "text": [
      "정렬 전 -> [188, 162, 168, 120, 50, 150, 177, 105]\n",
      "정렬 후 -> [50, 105, 120, 150, 162, 168, 177, 188]\n"
     ]
    }
   ],
   "source": [
    "## 변수 선언\n",
    "# [('아빠', 188), ('할머니', 162), ..., ('동생', 105)]\n",
    "before = [188, 162, 168, 120, 50, 150, 177, 105]\n",
    "after = []\n",
    "\n",
    "## 메인코드\n",
    "print(f'정렬 전 -> {before}')\n",
    "\n",
    "for _ in range (len(before)): # 8번\n",
    "    minPos = findMinIdx(before)\n",
    "    after.append(before[minPos])\n",
    "    del(before[minPos])\n",
    "print(f'정렬 후 -> {after}')"
   ]
  },
  {
   "cell_type": "markdown",
   "metadata": {},
   "source": [
    "#### 데이터 교환에서 가장 중요한 swap\n",
    "- 변수가 두 개 있을 때 하나의 값을 다른 곳으로 할당하려면 임시 변수 필요\n",
    "\n",
    "```python\n",
    "def swap(x, y):\n",
    "    temp = x\n",
    "    x = y\n",
    "    y = temp\n",
    "```"
   ]
  },
  {
   "cell_type": "code",
   "execution_count": null,
   "metadata": {},
   "outputs": [
    {
     "name": "stdout",
     "output_type": "stream",
     "text": [
      "정렬 전 -> [188, 162, 168, 120, 50, 150, 177, 105]\n",
      "정렬 중(1회) : [50, 162, 168, 120, 188, 150, 177, 105]\n",
      "정렬 중(2회) : [50, 105, 168, 120, 188, 150, 177, 162]\n",
      "정렬 중(3회) : [50, 105, 120, 168, 188, 150, 177, 162]\n",
      "정렬 중(4회) : [50, 105, 120, 150, 188, 168, 177, 162]\n",
      "정렬 중(5회) : [50, 105, 120, 150, 162, 168, 177, 188]\n",
      "정렬 중(6회) : [50, 105, 120, 150, 162, 168, 177, 188]\n",
      "정렬 중(7회) : [50, 105, 120, 150, 162, 168, 177, 188]\n",
      "중복처리 횟수 = 16\n",
      "정렬 후 -> [50, 105, 120, 150, 162, 168, 177, 188]\n"
     ]
    }
   ],
   "source": [
    "# 변수 하나로 선택정렬\n",
    "def sortSelection(ary):\n",
    "    count = 0\n",
    "    n = len(ary)\n",
    "    for i in range(0, n-1):\n",
    "        minIdx = i\n",
    "        for j in range(i+1, n):\n",
    "            if ary[minIdx] > ary[j]:\n",
    "                minIdx = j\n",
    "                count += 1\n",
    "       \n",
    "        tmp = ary[i]\n",
    "        ary[i] = ary[minIdx]\n",
    "        ary[minIdx] = tmp\n",
    "       \n",
    "        print(f'정렬 중({i+1}회) : {ary}')\n",
    "        \n",
    "\n",
    "    print(f'중복처리 횟수 = {count}')\n",
    "    return ary\n",
    "\n",
    "dataAry = [188, 162, 168, 120, 50, 150, 177, 105]\n",
    "print(f'정렬 전 -> {dataAry}')\n",
    "ary = sortSelection(dataAry)\n",
    "print(f'정렬 후 -> {dataAry}')\n"
   ]
  },
  {
   "cell_type": "markdown",
   "metadata": {},
   "source": [
    "#### 삽입정렬\n",
    "- 기존 데이터 중에 자신의 위치를 찾아 데이터를 삽입하는 정렬"
   ]
  },
  {
   "cell_type": "markdown",
   "metadata": {},
   "source": [
    "- 삽입될 위치를 찾는 함수"
   ]
  },
  {
   "cell_type": "code",
   "execution_count": 30,
   "metadata": {},
   "outputs": [],
   "source": [
    "def findInsertIdx(ary, data):\n",
    "    findIdx = -1 # 배열의 인덱스 앞(인덱스 0보다 앞을 의미)\n",
    "    for i in range(0, len(ary)):\n",
    "        if ary[i] > data:\n",
    "            findIdx = i\n",
    "            break\n",
    "\n",
    "        if findIdx == -1 : # 큰값을 못찾음. 제일 마지막 위치\n",
    "            return len(ary)\n",
    "        else:\n",
    "            return findIdx"
   ]
  },
  {
   "cell_type": "code",
   "execution_count": 20,
   "metadata": {},
   "outputs": [
    {
     "name": "stdout",
     "output_type": "stream",
     "text": [
      "삽입위치 인덱스 -> 3\n"
     ]
    }
   ],
   "source": [
    "testAry = [33, 77, 88]\n",
    "print(f'삽입위치 인덱스 -> {findInsertIdx(testAry, 55)}')"
   ]
  },
  {
   "cell_type": "code",
   "execution_count": 23,
   "metadata": {},
   "outputs": [
    {
     "name": "stdout",
     "output_type": "stream",
     "text": [
      "삽입위치 인덱스 -> None\n"
     ]
    }
   ],
   "source": [
    "testAry = [33, 55, 77, 88]\n",
    "print(f'삽입위치 인덱스 -> {findInsertIdx(testAry, 1)}')"
   ]
  },
  {
   "cell_type": "markdown",
   "metadata": {},
   "source": [
    "- 삽입정렬 구현"
   ]
  },
  {
   "cell_type": "code",
   "execution_count": 61,
   "metadata": {},
   "outputs": [
    {
     "name": "stdout",
     "output_type": "stream",
     "text": [
      "[188, 162, 168, 120, 50, 150, 177, 105]\n",
      "정렬 전 -> [188, 162, 168, 120, 50, 150, 177, 105]\n",
      "정렬 중(1회) data : 188, insPos : 0 => [188]\n",
      "정렬 중(2회) data : 162, insPos : 0 => [162, 188]\n",
      "정렬 중(3회) data : 168, insPos : 1 => [162, 168, 188]\n",
      "정렬 중(4회) data : 120, insPos : 0 => [120, 162, 168, 188]\n",
      "정렬 중(5회) data :  50, insPos : 0 => [50, 120, 162, 168, 188]\n",
      "정렬 중(6회) data : 150, insPos : 2 => [50, 120, 150, 162, 168, 188]\n",
      "정렬 중(7회) data : 177, insPos : 5 => [50, 120, 150, 162, 168, 177, 188]\n",
      "정렬 중(8회) data : 105, insPos : 1 => [50, 105, 120, 150, 162, 168, 177, 188]\n",
      "정렬 후 -> [50, 105, 120, 150, 162, 168, 177, 188]\n"
     ]
    }
   ],
   "source": [
    "def findInsertIdx(ary, data):\n",
    "    findIdx = -1 # 배열의 인덱스 앞(인덱스 0보다 앞을 의미)\n",
    "    for i in range(0, len(ary)):\n",
    "        if (ary[i] > data):\n",
    "            findIdx = i\n",
    "            break\n",
    "\n",
    "    if findIdx == -1 : # 큰값을 못찾음. 제일 마지막 위치\n",
    "        return len(ary)\n",
    "    else:\n",
    "        return findIdx\n",
    "# 변수\n",
    "before = [188, 162, 168, 120, 50, 150, 177, 105]\n",
    "after = []\n",
    "print(before)\n",
    "# 메인코드\n",
    "print(f'정렬 전 -> {before}')\n",
    "for i in range(len(before)):\n",
    "    data = before[i]\n",
    "    insPos = findInsertIdx(after, data)\n",
    "    after.insert(insPos, data)\n",
    "    # print(f'data : {data}, insPos : {insPos}')\n",
    "    print(f'정렬 중({i+1}회) data : {data:>3d}, insPos : {insPos} => {after}')\n",
    "\n",
    "print(f'정렬 후 -> {after}')"
   ]
  },
  {
   "cell_type": "markdown",
   "metadata": {},
   "source": [
    "- 변수 하나로 삽입정렬(개선)"
   ]
  },
  {
   "cell_type": "code",
   "execution_count": null,
   "metadata": {},
   "outputs": [
    {
     "name": "stdout",
     "output_type": "stream",
     "text": [
      "정렬 전 --> [188, 162, 168, 120, 50, 150, 177, 105]\n",
      "정렬 중(1회) : [162, 188, 168, 120, 50, 150, 177, 105]\n",
      "정렬 중(2회) : [162, 168, 188, 120, 50, 150, 177, 105]\n",
      "정렬 중(3회) : [120, 162, 168, 188, 50, 150, 177, 105]\n",
      "정렬 중(4회) : [50, 120, 162, 168, 188, 150, 177, 105]\n",
      "정렬 중(5회) : [50, 120, 150, 162, 168, 188, 177, 105]\n",
      "정렬 중(6회) : [50, 120, 150, 162, 168, 177, 188, 105]\n",
      "정렬 중(7회) : [50, 105, 120, 150, 162, 168, 177, 188]\n",
      "총 처리횟수 26\n",
      "정렬 후 --> [50, 105, 120, 150, 162, 168, 177, 188]\n"
     ]
    }
   ],
   "source": [
    "def sortInsertion(ary):\n",
    "    count = 0\n",
    "    n = len(ary)\n",
    "    for end in range(1, n):\n",
    "        for cur in range(end, 0, -1):\n",
    "            if ary[cur-1] > ary[cur]:\n",
    "                # tmp = ary[cur]\n",
    "                # ary[cur] = ary[cur - 1]\n",
    "                # ary[cur - 1] = tmp\n",
    "                # tmp 변수 없이 변경하는 로직(파이썬에 존재)\n",
    "                ary[cur-1], ary[cur] = ary[cur], ary[cur-1]\n",
    "                count += 1\n",
    "\n",
    "        print(f'정렬 중({end}회) : {ary}')\n",
    "        \n",
    "\n",
    "    print(f'총 처리횟수 {count}')    \n",
    "    return ary\n",
    "\n",
    "## 전역 변수 선언\n",
    "dataAry = [188, 162, 168, 120, 50, 150, 177, 105]\n",
    "\n",
    "## 메인 코드 부분\n",
    "print('정렬 전 -->', dataAry)\n",
    "dataAry = sortInsertion(dataAry)\n",
    "print('정렬 후 -->', dataAry)\n"
   ]
  },
  {
   "cell_type": "markdown",
   "metadata": {},
   "source": [
    "#### 버블 정렬\n",
    "- 앞뒤 데이터를 비교해서 큰 값을 뒤로 보내면서 정렬하는 방식\n",
    "- 거품처럼 생겼다고 버블 정렬"
   ]
  },
  {
   "cell_type": "code",
   "execution_count": null,
   "metadata": {},
   "outputs": [
    {
     "name": "stdout",
     "output_type": "stream",
     "text": [
      "정렬 전 -> [188, 162, 168, 120, 50, 150, 177, 105]\n",
      "정렬 중 --> [162, 168, 120, 50, 150, 177, 105, 188]\n",
      "정렬 중 --> [162, 120, 50, 150, 168, 105, 177, 188]\n",
      "정렬 중 --> [120, 50, 150, 162, 105, 168, 177, 188]\n",
      "정렬 중 --> [50, 120, 150, 105, 162, 168, 177, 188]\n",
      "정렬 중 --> [50, 120, 105, 150, 162, 168, 177, 188]\n",
      "정렬 중 --> [50, 105, 120, 150, 162, 168, 177, 188]\n",
      "정렬 중 --> [50, 105, 120, 150, 162, 168, 177, 188]\n",
      "총 처리횟수 26\n",
      "정렬 후 -> [50, 105, 120, 150, 162, 168, 177, 188]\n"
     ]
    }
   ],
   "source": [
    "import random\n",
    "# 함수 정의\n",
    "def sortBubble(ary):\n",
    "    count = 0\n",
    "    n = len(ary)\n",
    "    for end in range(n-1, 0, -1): # 뒤에서 앞으로 반복\n",
    "        for cur in range(0, end):\n",
    "            if ary[cur] > ary[cur + 1]:\n",
    "                ary[cur], ary[cur+1] = ary[cur+1], ary[cur] # swap 기능\n",
    "                count += 1\n",
    "            # print(f'정렬 중({cur+1}회) : {ary}')\n",
    "        \n",
    "        print(f'정렬 중 --> {ary}')\n",
    "        \n",
    "    \n",
    "    print(f'총 처리횟수 {count}')    \n",
    "    return ary\n",
    "\n",
    "dataAry = [188, 162, 168, 120, 50, 150, 177, 105]\n",
    "# dataAry = [random.randint(50, 190) for _ in range(random.randint(8, 8))]\n",
    "print(f'정렬 전 -> {dataAry}')\n",
    "dataAry = sortBubble(dataAry)\n",
    "print(f'정렬 후 -> {dataAry}')"
   ]
  },
  {
   "cell_type": "markdown",
   "metadata": {},
   "source": [
    "##### 버블 정렬 중\n",
    "- 데이터가 거의 정렬 되어있고, 한 두개 데이터가 튀었을 때 개선 방법\n",
    "- 한 사이클을 마쳤을 때 모두 정렬이 되면 더 이상 반복문을 처리하지않고 탈출"
   ]
  },
  {
   "cell_type": "code",
   "execution_count": null,
   "metadata": {},
   "outputs": [
    {
     "name": "stdout",
     "output_type": "stream",
     "text": [
      "정렬 전 -> [50, 105, 120, 188, 150, 162, 168, 177]\n",
      "정렬 중 -> [50, 105, 120, 150, 162, 168, 177, 188]\n",
      "정렬 중 -> [50, 105, 120, 150, 162, 168, 177, 188]\n",
      "총 처리횟수 6\n",
      "정렬 후 -> [50, 105, 120, 150, 162, 168, 177, 188]\n"
     ]
    }
   ],
   "source": [
    "## 버블소트 개선함수\n",
    "\n",
    "import random\n",
    "# 함수 정의\n",
    "def sortBubble(ary):\n",
    "    count = 0\n",
    "    n = len(ary)\n",
    " \n",
    "    for end in range(n-1, 0, -1): # 뒤에서 앞으로 반복\n",
    "        changeYN = False\n",
    "        # print(f'#사이클 --> {ary}')\n",
    "        for cur in range(0, end):\n",
    "            if ary[cur] > ary[cur + 1]:\n",
    "                ary[cur], ary[cur+1] = ary[cur+1], ary[cur] # swap 기능을 포함\n",
    "                changeYN = True\n",
    "                count += 1\n",
    "        \n",
    "        print(f'정렬 중 -> {ary}')    \n",
    "        \n",
    "        \n",
    "        if not changeYN:\n",
    "            break\n",
    "\n",
    "    print(f'총 처리횟수 {count}')        \n",
    "    return ary\n",
    "\n",
    "# dataAry = [188, 162, 168, 120, 50, 150, 177, 105]\n",
    "# dataAry = [random.randint(50, 190) for _ in range(random.randint(8, 10))]\n",
    "dataAry = [50, 105, 120, 188, 150, 162, 168, 177]\n",
    "print(f'정렬 전 -> {dataAry}')\n",
    "dataAry = sortBubble(dataAry)\n",
    "print(f'정렬 후 -> {dataAry}')\n"
   ]
  },
  {
   "cell_type": "markdown",
   "metadata": {},
   "source": [
    "- 다른 정렬은 데이터가 어느정도 정렬이 다 되어있어도 횟수만큼 동작 $O(n^2)$\n",
    "- 버블 정렬은 데이터가 어느정도 정렬 되있으면 반복횟수를 줄일 수 있음 $O(n)$"
   ]
  },
  {
   "cell_type": "markdown",
   "metadata": {},
   "source": [
    "#### 퀵정렬\n",
    "- 전체 데이터에서 기준값을 잡고, 기준값보다 작은 값은 왼쪽그룹으로, 큰값은 오른쪽 그룹으로 나누는 작업을 반복해서 정렬하는 방식\n"
   ]
  },
  {
   "cell_type": "code",
   "execution_count": null,
   "metadata": {},
   "outputs": [
    {
     "name": "stdout",
     "output_type": "stream",
     "text": [
      "정렬 전 --> [188, 162, 168, 120, 50, 150, 177, 105]\n",
      "정렬 중 --> [188, 162, 168, 120, 50, 150, 177, 105]\n",
      "정렬 중 --> [188, 162, 168, 120, 50, 150, 177, 105]\n",
      "정렬 중 --> [188, 162, 168, 120, 50, 150, 177, 105]\n",
      "정렬 중 --> [188, 162, 168, 120, 50, 150, 177, 105]\n",
      "정렬 중 --> [188, 162, 168, 120, 50, 150, 177, 105]\n",
      "정렬 후 --> [50, 105, 120, 150, 162, 168, 177, 188]\n",
      "처리횟수 -> 19\n"
     ]
    }
   ],
   "source": [
    "# 함수정리\n",
    "count = 0\n",
    "\n",
    "def quickSort(ary):\n",
    "    global count\n",
    "    n = len(ary)\n",
    "\n",
    "    if n <= 1:  # 정렬할 리스트 개수가 1개 이하면\n",
    "        return ary\n",
    "    \n",
    "    pivot = ary[n // 2]\n",
    "    leftAry, rightAry = [], [] # 중간값을 기준값으로 설정\n",
    "\n",
    "    for num in ary:\n",
    "        if num < pivot: # 기준값보다 작으면 왼쪽그룹\n",
    "            leftAry.append(num) \n",
    "            count += 1\n",
    "\n",
    "        # elif num == pivot: # 이게 없으면 오른쪽 그룹으로 추가되면서 RecurssionError 발생\n",
    "        #     continue\n",
    "        elif num > pivot:\n",
    "            rightAry.append(num)    \n",
    "            count += 1\n",
    "\n",
    "        # elif num > pivot: # 기준값보다 크면 오른쪽 그룹으로\n",
    "        #     rightAry.append(num)\n",
    "        #     count += 1\n",
    "\n",
    "    print(f'정렬 중 --> {dataAry}')\n",
    "    \n",
    "    return quickSort(leftAry) + [pivot] + quickSort(rightAry)\n",
    "    \n",
    "# 전역 변수\n",
    "dataAry = [188, 162, 168, 120, 50, 150, 177, 105]\n",
    "\n",
    "# 메인 코드\n",
    "\n",
    "\n",
    "print(f'정렬 전 --> {dataAry}')\n",
    "dataAry = quickSort(dataAry)\n",
    "print(f'정렬 후 --> {dataAry}')\n",
    "print(f'처리횟수 -> {count}')"
   ]
  },
  {
   "cell_type": "markdown",
   "metadata": {},
   "source": [
    "- 중복값을 고려한 퀵 정렬"
   ]
  },
  {
   "cell_type": "code",
   "execution_count": 47,
   "metadata": {},
   "outputs": [
    {
     "name": "stdout",
     "output_type": "stream",
     "text": [
      "정렬 전 --> [188, 162, 168, 120, 50, 150, 177, 105]\n",
      "정렬 중 --> [188, 162, 168, 120, 50, 150, 177, 105]\n",
      "정렬 중 --> [188, 162, 168, 120, 50, 150, 177, 105]\n",
      "정렬 중 --> [188, 162, 168, 120, 50, 150, 177, 105]\n",
      "정렬 중 --> [188, 162, 168, 120, 50, 150, 177, 105]\n",
      "정렬 중 --> [188, 162, 168, 120, 50, 150, 177, 105]\n",
      "정렬 후 --> [50, 105, 120, 150, 162, 168, 177, 188]\n",
      "처리횟수 -> 24\n"
     ]
    }
   ],
   "source": [
    "count = 0\n",
    "def quickSortD(ary):\n",
    "    global count\n",
    "    n = len(ary)\n",
    "\n",
    "    if n <= 1:\n",
    "        return ary\n",
    "    \n",
    "    pivot = ary[n // 2]\n",
    "    leftAry, midAry, rightAry = [], [], [] # 중간값을 기준값으로 설정\n",
    "\n",
    "    for num in ary:\n",
    "        if num < pivot: # 기준값보다 작으면 왼쪽그룹\n",
    "            leftAry.append(num) \n",
    "            count += 1\n",
    "        elif num > pivot:\n",
    "            rightAry.append(num)    \n",
    "            count += 1\n",
    "        else:\n",
    "            midAry.append(num)\n",
    "            count += 1\n",
    "\n",
    "        # elif num > pivot: # 기준값보다 크면 오른쪽 그룹으로\n",
    "        #     rightAry.append(num)\n",
    "        #     count += 1\n",
    "\n",
    "    print(f'정렬 중 --> {dataAry}')\n",
    "    \n",
    "    return quickSortD(leftAry) + midAry + quickSortD(rightAry)\n",
    "    \n",
    "# 전역 변수\n",
    "dataAry = [188, 162, 168, 120, 50, 150, 177, 105]\n",
    "\n",
    "# 메인 코드\n",
    "\n",
    "print(f'정렬 전 --> {dataAry}')\n",
    "dataAry = quickSortD(dataAry)\n",
    "print(f'정렬 후 --> {dataAry}')\n",
    "print(f'처리횟수 -> {count}')"
   ]
  },
  {
   "cell_type": "markdown",
   "metadata": {},
   "source": [
    "- 퀵정렬 일반 구현"
   ]
  },
  {
   "cell_type": "code",
   "execution_count": null,
   "metadata": {},
   "outputs": [
    {
     "name": "stdout",
     "output_type": "stream",
     "text": [
      "정렬 전 --> [188, 150, 168, 162, 105, 120, 177, 50]\n",
      "정렬 중 --> [50, 150, 168, 162, 105, 120, 177, 188]\n",
      "정렬 중 --> [50, 150, 120, 162, 105, 168, 177, 188]\n",
      "정렬 중 --> [50, 150, 120, 105, 162, 168, 177, 188]\n",
      "정렬 중 --> [50, 105, 120, 150, 162, 168, 177, 188]\n",
      "정렬 중 --> [50, 105, 120, 150, 162, 168, 177, 188]\n",
      "정렬 중 --> [50, 105, 120, 150, 162, 168, 177, 188]\n",
      "정렬 중 --> [50, 105, 120, 150, 162, 168, 177, 188]\n",
      "정렬 중 --> [50, 105, 120, 150, 162, 168, 177, 188]\n",
      "정렬 중 --> [50, 105, 120, 150, 162, 168, 177, 188]\n",
      "정렬 중 --> [50, 105, 120, 150, 162, 168, 177, 188]\n",
      "정렬 후 --> [50, 105, 120, 150, 162, 168, 177, 188]\n",
      "처리횟수 -> 9\n"
     ]
    }
   ],
   "source": [
    "count = 0\n",
    "def qSort(arr, start, end):\n",
    "    global count\n",
    "    if end <= start: # 재귀호출 종료 조건, end는 작아지고 start는 커지면서 서로 만나면 종료\n",
    "        return\n",
    "    \n",
    "    # 시작점\n",
    "    low = start \n",
    "    high = end\n",
    "\n",
    "    pivot = arr[(low + high) // 2] # 리스트 중간 값을 기준 값으로\n",
    "    while low <= high:\n",
    "        while arr[low] < pivot:\n",
    "            low += 1\n",
    "        while arr[high] > pivot:\n",
    "            high -= 1\n",
    "        if low <= high:\n",
    "            arr[low], arr[high] = arr[high], arr[low]\n",
    "            low, high = low + 1, high - 1\n",
    "            count += 1\n",
    "            print(f'정렬 중 --> {arr}')\n",
    "\n",
    "    mid = low # 모든 정렬을 한바퀴 돌면 low는 리스트 중간 쯤 가있는다\n",
    "    \n",
    "    qSort(arr, start, mid-1) # 왼쪽 그룹 다시 정렬(재귀호출)\n",
    "    qSort(arr, mid, end) # 오른쪽 그룹 다시 정렬(재귀호출)\n",
    "\n",
    "    # mid = low 사용 하지 않을 시\n",
    "    # qSort(arr, start, low-1) # 왼쪽 그룹 다시 정렬(재귀호출)\n",
    "    # qSort(arr, low, end) # 오른쪽 그룹 다시 정렬(재귀호출)\n",
    "    \n",
    "\n",
    "def quickSort(ary) : \n",
    "    qSort(ary, 0, len(ary)-1)\n",
    "\n",
    "# 전역 변수\n",
    "dataAry = [188, 150, 168, 162, 105, 120,  177, 50]\n",
    "\n",
    "# 메인 코드\n",
    "\n",
    "print(f'정렬 전 --> {dataAry}')\n",
    "# qSort(dataAry, 0, len(dataAry)-1)\n",
    "quickSort(dataAry)\n",
    "print(f'정렬 후 --> {dataAry}')\n",
    "print(f'처리횟수 -> {count}')"
   ]
  },
  {
   "cell_type": "markdown",
   "metadata": {},
   "source": [
    "##### 퀵정렬\n",
    "- 최악의 경우는 $O(n^2)$ 이나, 평균적으로 $O(n log n)$의 연산수를 가짐\n",
    "- 만약 n이 100만개 일 경우\n",
    "    - 선택정렬, 삽입정렬 평균 약 1조번 처리\n",
    "    - 퀵정렬 평균 약 2000만번 처리(1/50000로 처리량 축소)"
   ]
  },
  {
   "cell_type": "markdown",
   "metadata": {},
   "source": [
    "#### 정렬 응용 예\n",
    "- 이진 탐색(Binary search)[이진 트리 사용] 검색알고리즘에서 활용 (이진트리 이미 정렬 되어 있음)\n",
    "- 데이터 분석 : 최소값, 최대값, 중앙값, 분위수 계산시 사용\n",
    "- 데이터베이스 SQL문 : ORDER BY 사용시 오름차순, 내림차순 사용\n",
    "- 파일 정리, 로그 정리\n",
    "- 그래픽 이미지처리 : 이미지 픽셀 밝기 순 정렬, 히스토그램 생성\n",
    "- 네트워크 패킷 처리\n",
    "- 인공지능 머신러닝 : KNN 정렬 사용\n",
    "- 쇼핑몰 : 금액 별(낮은 가격, 높은 가격) 정렬"
   ]
  }
 ],
 "metadata": {
  "kernelspec": {
   "display_name": "Python 3",
   "language": "python",
   "name": "python3"
  },
  "language_info": {
   "codemirror_mode": {
    "name": "ipython",
    "version": 3
   },
   "file_extension": ".py",
   "mimetype": "text/x-python",
   "name": "python",
   "nbconvert_exporter": "python",
   "pygments_lexer": "ipython3",
   "version": "3.11.9"
  }
 },
 "nbformat": 4,
 "nbformat_minor": 2
}
